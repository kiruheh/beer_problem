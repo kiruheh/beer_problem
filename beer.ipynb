{
  "nbformat": 4,
  "nbformat_minor": 0,
  "metadata": {
    "colab": {
      "provenance": [],
      "authorship_tag": "ABX9TyPipllmEwLYsUUiRFBsGoaa",
      "include_colab_link": true
    },
    "kernelspec": {
      "name": "python3",
      "display_name": "Python 3"
    },
    "language_info": {
      "name": "python"
    }
  },
  "cells": [
    {
      "cell_type": "markdown",
      "metadata": {
        "id": "view-in-github",
        "colab_type": "text"
      },
      "source": [
        "<a href=\"https://colab.research.google.com/github/kiruheh/beer_problem/blob/main/beer.ipynb\" target=\"_parent\"><img src=\"https://colab.research.google.com/assets/colab-badge.svg\" alt=\"Open In Colab\"/></a>"
      ]
    },
    {
      "cell_type": "code",
      "source": [
        "!pip install pulp"
      ],
      "metadata": {
        "colab": {
          "base_uri": "https://localhost:8080/"
        },
        "id": "9_kEc9mAFV8D",
        "outputId": "8594c37e-cc65-41ab-a48d-6af97769a5ae"
      },
      "execution_count": 2,
      "outputs": [
        {
          "output_type": "stream",
          "name": "stdout",
          "text": [
            "Collecting pulp\n",
            "  Downloading PuLP-2.8.0-py3-none-any.whl (17.7 MB)\n",
            "\u001b[2K     \u001b[90m━━━━━━━━━━━━━━━━━━━━━━━━━━━━━━━━━━━━━━━━\u001b[0m \u001b[32m17.7/17.7 MB\u001b[0m \u001b[31m38.8 MB/s\u001b[0m eta \u001b[36m0:00:00\u001b[0m\n",
            "\u001b[?25hInstalling collected packages: pulp\n",
            "Successfully installed pulp-2.8.0\n"
          ]
        }
      ]
    },
    {
      "cell_type": "code",
      "execution_count": 3,
      "metadata": {
        "id": "Mh1MZP54FQo7"
      },
      "outputs": [],
      "source": [
        "# Import PuLP modeler functions\n",
        "from pulp import *\n",
        "import pandas\n",
        "import csv\n",
        "\n",
        "# Creates a list of all the supply nodes\n",
        "Warehouses = [\"A\", \"B\"]\n",
        "\n",
        "# Creates a dictionary for the number of units of supply for each supply node\n",
        "supply = {\"A\": 1000, \"B\": 4000}\n",
        "\n",
        "# Creates a list of all demand nodes\n",
        "Bars = [\"1\", \"2\", \"3\", \"4\", \"5\"]\n",
        "\n",
        "# Creates a dictionary for the number of units of demand for each demand node\n",
        "demand = {\n",
        "    \"1\": 500,\n",
        "    \"2\": 900,\n",
        "    \"3\": 1800,\n",
        "    \"4\": 200,\n",
        "    \"5\": 700,\n",
        "}\n",
        "\n",
        "# Creates a list of costs of each transportation path\n",
        "costs = [  # Bars\n",
        "    # 1 2 3 4 5\n",
        "    [2, 4, 5, 2, 1],  # A   Warehouses\n",
        "    [3, 1, 3, 2, 3],  # B\n",
        "]\n",
        "\n",
        "\n"
      ]
    },
    {
      "cell_type": "code",
      "source": [
        "with open('warehouses_supply.csv','w') as f:\n",
        "  writer = csv.writer(f)\n",
        "  writer.writerow(Warehouses)\n",
        "  writer.writerow(supply.values())\n",
        "\n",
        "with open('bars_demand.csv','w') as f:\n",
        "  writer = csv.writer(f)\n",
        "  writer.writerow(Bars)\n",
        "  writer.writerow(demand.values())\n",
        "\n",
        "with open('transport_cost.csv','w') as f:\n",
        "  writer = csv.writer(f)\n",
        "  writer.writerow(['Warehouse'] + Bars)\n",
        "  for i, cost in enumerate(costs):\n",
        "    writer.writerow([Warehouses[i]] + cost)"
      ],
      "metadata": {
        "id": "oESSPQxtFST8"
      },
      "execution_count": 5,
      "outputs": []
    },
    {
      "cell_type": "code",
      "source": [
        "import pandas as pd\n",
        "\n",
        "costs = pd.read_csv('transport_cost.csv')\n",
        "supplys = pd.read_csv('warehouses_supply.csv')\n",
        "demands = pd.read_csv('bars_demand.csv')"
      ],
      "metadata": {
        "id": "VoYnU5zlHw_n"
      },
      "execution_count": 63,
      "outputs": []
    },
    {
      "cell_type": "code",
      "source": [
        "WH_names = costs['Warehouse'].values.tolist()\n",
        "B_names = costs.columns.values.tolist()[1:]"
      ],
      "metadata": {
        "id": "T_GHi1FiJHht"
      },
      "execution_count": 52,
      "outputs": []
    },
    {
      "cell_type": "code",
      "source": [
        "main = 0\n",
        "model = LpProblem(name='Beer problem', sense=LpMinimize)\n",
        "b = True\n",
        "Warehouses = []\n",
        "X = {}\n",
        "for bar in B_names:\n",
        "  demand = 0\n",
        "\n",
        "  for i, warehouse in enumerate(WH_names):\n",
        "    x = LpVariable(name=f\"x{bar}_{warehouse}\", lowBound=0, cat = 'Integer')\n",
        "    demand += x\n",
        "    main += x * int(costs[bar][i])\n",
        "    X[(bar, warehouse)] = x\n",
        "\n",
        "  model += (demand >= int(demands[bar][0]), f\"{bar} bar demand\")\n",
        "\n",
        "for warehouse in WH_names:\n",
        "  supply = 0\n",
        "  for bar in B_names:\n",
        "    supply += X[((bar, warehouse))]\n",
        "\n",
        "  model += (supply <= int(supplys[warehouse][0]), f\"{warehouse} warehouse supply\")\n",
        "\n",
        "model += main\n",
        "model"
      ],
      "metadata": {
        "colab": {
          "base_uri": "https://localhost:8080/"
        },
        "id": "fs0LvTzLITrQ",
        "outputId": "6c9a097f-cc34-4c60-8160-338a0dbf7a6d"
      },
      "execution_count": 64,
      "outputs": [
        {
          "output_type": "stream",
          "name": "stderr",
          "text": [
            "/usr/local/lib/python3.10/dist-packages/pulp/pulp.py:1316: UserWarning: Spaces are not permitted in the name. Converted to '_'\n",
            "  warnings.warn(\"Spaces are not permitted in the name. Converted to '_'\")\n"
          ]
        },
        {
          "output_type": "execute_result",
          "data": {
            "text/plain": [
              "Beer_problem:\n",
              "MINIMIZE\n",
              "2*x1_A + 3*x1_B + 4*x2_A + 1*x2_B + 5*x3_A + 3*x3_B + 2*x4_A + 2*x4_B + 1*x5_A + 3*x5_B + 0\n",
              "SUBJECT TO\n",
              "1_bar_demand: x1_A + x1_B >= 500\n",
              "\n",
              "2_bar_demand: x2_A + x2_B >= 900\n",
              "\n",
              "3_bar_demand: x3_A + x3_B >= 1800\n",
              "\n",
              "4_bar_demand: x4_A + x4_B >= 200\n",
              "\n",
              "5_bar_demand: x5_A + x5_B >= 700\n",
              "\n",
              "A_warehouse_supply: x1_A + x2_A + x3_A + x4_A + x5_A <= 1000\n",
              "\n",
              "B_warehouse_supply: x1_B + x2_B + x3_B + x4_B + x5_B <= 4000\n",
              "\n",
              "VARIABLES\n",
              "0 <= x1_A Integer\n",
              "0 <= x1_B Integer\n",
              "0 <= x2_A Integer\n",
              "0 <= x2_B Integer\n",
              "0 <= x3_A Integer\n",
              "0 <= x3_B Integer\n",
              "0 <= x4_A Integer\n",
              "0 <= x4_B Integer\n",
              "0 <= x5_A Integer\n",
              "0 <= x5_B Integer"
            ]
          },
          "metadata": {},
          "execution_count": 64
        }
      ]
    },
    {
      "cell_type": "code",
      "source": [
        "model.solve()\n",
        "\n",
        "print(f\"status: {model.status}, {LpStatus[model.status]}\")\n",
        "print(f\"objective: {model.objective.value()}\")\n",
        "\n",
        "for var in X.values():\n",
        "    print(f\"{var.name}: {var.value()}\")\n",
        "\n",
        "for name, constraint in model.constraints.items():\n",
        "    print(f\"{name}: {constraint.value()}\")"
      ],
      "metadata": {
        "colab": {
          "base_uri": "https://localhost:8080/"
        },
        "id": "dhbKwmW1Oc3C",
        "outputId": "d344f0a1-ad4f-4ddf-ee42-ac10b352f0e9"
      },
      "execution_count": 66,
      "outputs": [
        {
          "output_type": "stream",
          "name": "stdout",
          "text": [
            "status: 1, Optimal\n",
            "objective: 8600.0\n",
            "x1_A: 300.0\n",
            "x1_B: 200.0\n",
            "x2_A: 0.0\n",
            "x2_B: 900.0\n",
            "x3_A: 0.0\n",
            "x3_B: 1800.0\n",
            "x4_A: 0.0\n",
            "x4_B: 200.0\n",
            "x5_A: 700.0\n",
            "x5_B: 0.0\n",
            "1_bar_demand: 0.0\n",
            "2_bar_demand: 0.0\n",
            "3_bar_demand: 0.0\n",
            "4_bar_demand: 0.0\n",
            "5_bar_demand: 0.0\n",
            "A_warehouse_supply: 0.0\n",
            "B_warehouse_supply: -900.0\n"
          ]
        }
      ]
    }
  ]
}